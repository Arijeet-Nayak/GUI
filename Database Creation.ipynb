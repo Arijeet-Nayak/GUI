#=================database creation=============================
import mysql.connector
stdb = mysql.connector.connect(host = "localhost", user = "root", 
                               password = "<DATABASE-PASSWORD>")
mycursor = stdb.cursor()    
mycursor.execute("create database studentdb")
