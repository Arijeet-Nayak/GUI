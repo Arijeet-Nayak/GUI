#==============table creation===================================
import mysql.connector 
mydb = mysql.connector.connect(host = "localhost",  
                               user = "root",  
                               password = "<DATABASE-PASSWORD>",  
                               database = "studentdb") 
mycursor = mydb.cursor() 
mycursor.execute("CREATE TABLE student0(registration int(15) PRIMARY KEY,name VARCHAR(255), password int(15))")