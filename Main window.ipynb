from tkinter import*
from tkinter.ttk import*  #new widgets
from tkinter.filedialog import askopenfile  #for file access
import tkinter.messagebox  #for pop-up box
from tkinter.tix import*  #for tips
import time




#creating the frame
ws=Tk()
ws.title('STUDY-MATERIAL SHARING INTERFACE')
ws.geometry('400x300')

#colour of window
ws.configure(bg='#d9eafa')

#created tooltip
tip=Balloon(ws)

#function to open access any type of files and binding to buttons(choose file)
#def open_file():
    #file=filedialog.askopenfilename()
    #if file is not None:
        #pass
    
my_str1=StringVar()  #making a variable string
my_str2=StringVar()
my_str3=StringVar()

def open_name1():    #dialog box and fetching file name
    file1=filedialog.askopenfilename()
    if(file1):
        my_str1.set(file1)
        
       
def open_name2():    #dialog box and fetching file name
    file2=filedialog.askopenfilename()
    if(file2):
        my_str2.set(file2)
        
        
        
        
def open_name3():    #dialog box and fetching file name
    file3=filedialog.askopenfilename()
    if(file3):
        my_str3.set(file3)
        
        


#function binded to upload button
def upload_files():
    pb=Progressbar(ws, orient=HORIZONTAL, length=300, mode='determinate')  #creating a progressbar
    pb.grid(row=4, columnspan=3, pady=20)
    for i in range(5):  #filling the bar 20% for 5 times
        ws.update_idletasks()
        pb['value']+=20
        time.sleep(1) #giving a delay of one sec
    pb.destroy()  #destroying the progressbar
    tkinter.messagebox.showinfo("File Upload Status", "File Uploaded Successfully!")  #pop-up after progressbar fills up
    #Label(ws, text='File Uploaded Successfully!', foreground='green').grid(row=4, columnspan=3, pady=10)
    
#function binded to close button   
def Exit():
    tkinter.messagebox.showinfo("Program Closed", "THANK YOU!!") #pop-up on clicking the button
    ws.destroy()   #destroys the frame
    

#creating label    
hw=Label(ws, text='Hand-written Notes', bg='#d9eafa')
hw.grid(row=0, column=0, padx=10)  #placing the label

#creating button
hwbtn=Button(ws, text='Choose File', bg='#65a2db', command=lambda:open_name1())
hwbtn.grid(row=0, column=1)  #placing the button

#tip message while hovering over the button
tip.bind_widget(hwbtn, balloonmsg="Click to choose a file")

hwlabel=Label(ws, textvariable=my_str1, foreground='RED')
hwlabel.grid(row=0, column=2)
my_str1.set("NO FILE SELECTED")

#creating label
ppt=Label(ws, text='Class Notes', bg='#d9eafa')
ppt.grid(row=1, column=0, padx=10)  #placing the label

#creating button
pptbtn=Button(ws, text='Choose File', bg='#65a2db', command=lambda:open_name2())
pptbtn.grid(row=1, column=1)  #placing the button

#tip message while hovering over the button
tip.bind_widget(pptbtn, balloonmsg="Click to choose a file")

pptlabel=Label(ws, textvariable=my_str2, foreground='RED')
pptlabel.grid(row=1, column=2)
my_str2.set("NO FILE SELECTED")

#creating label
sn=Label(ws, text='Short Notes', bg='#d9eafa')
sn.grid(row=2, column=0, padx=10)  #placing the label

#creating button
snbtn=Button(ws, text='Choose File', bg='#65a2db', command=lambda:open_name3())
snbtn.grid(row=2, column=1)  #placing the button

#tip message while hovering over the button
tip.bind_widget(snbtn, balloonmsg="Click to choose a file")

snlabel=Label(ws, textvariable=my_str3, foreground='RED')
snlabel.grid(row=2, column=2)
my_str3.set("NO FILE SELECTED")


#creating button
upld=Button(ws, text='Upload Files', command=upload_files)
upld.grid(row=3, column=0, pady=10)  #placing the button

#tip message while hovering over the button
tip.bind_widget(upld, balloonmsg="Click to upload your files")


#creating button
Ext=Button(ws, text='Close', bg='red', activebackground='red', command=Exit)
Ext.grid(row=3, column=1, pady=10)  #placing the button

#tip message while hovering over the button
tip.bind_widget(Ext, balloonmsg="Click to close the program")



mainloop()