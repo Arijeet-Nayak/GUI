#=======================row insertion=================================
import mysql.connector 
 
stdb = mysql.connector.connect( host="localhost", user="root", password="<DATABASE-PASSWORD>", database="studentdb")  
 
mycursor = stdb.cursor() 
 
sql = "INSERT INTO student0(registration, name, password) VALUES (%s, %s, %s)" 
val = [ 
        (1200,'Anupam',100), 
        (1201,'Arijeet',101), 
        (1202, 'Aniket',102), 
        (1203,'Vishal',103), 
        (1204, 'Aman',104), 
        (1205, 'Rahul',105),
        (1206, 'Vikas',106),
        (1207, 'Harsh',107)]

mycursor.executemany(sql, val) 
 
stdb.commit()  
