#======================login page=======================================
from tkinter import*
from tkinter import messagebox
class login:
    def __init__(self,root):
        self.root=root
        self.root.title("Welcome to Login")
        self.root.geometry("1000x600")
        self.root.config(bg="#021e2f")
        
        frm=Frame(self.root,bg="light cyan")
        frm.place(x=250,y=100,width=850,height=500)
        
        #label in the frame
        title=Label(frm,text="Login Here !",font=("times new roman",30,"bold"),bg="light cyan",fg="crimson")
        title.place(x=290,y=20)
        
        #text label and entry box for taking values
        reg=Label(frm,text="Registration Number",font=("arial rounded mt",20),bg="light cyan",fg="olive")
        reg.place(x=20,y=100)
        self.reg_in=Entry(frm,font=("arial",15),bg="powder blue",width=30,border=1)
        self.reg_in.place(x=20,y=140,height=35)
        
        #text label and entry box for taking values
        pas=Label(frm,text="Password",font=("arial rounded mt",20),bg="light cyan",fg="olive")
        pas.place(x=20,y=200)
        self.pas_in=Entry(frm,font=("arial",15),bg="powder blue",width=30,border=1)
        self.pas_in.place(x=20,y=240,height=35)
        
        #button for login
        butn=Button(frm,cursor="hand2",text="Login",font=("arial rounded mt",20,"bold"),bg="lime green",fg="white",width=10,border=2,command=self.display)
        butn.place(x=20, y=320)
        
    def display(self):
           if self.pas_in.get()=="" or self.reg_in.get()=="":
                messagebox.showerror("Error","Please fill all the required fields !",parent=self.root)
                
           else:
                try:
                    stdb=mysql.connector.connect(host = "localhost", user = "root", password = "<DATABASE-PASSWORD>",database="studentdb")
                    mycursor=stdb.cursor()
                    mycursor.execute("select * from student0 where registration=%s and password=%s",(self.reg_in.get(),self.pas_in.get()))
                    check=mycursor.fetchone()
                    
                    if check==None:
                        messagebox.showerror("Error","Invalid registration or Password",parent=self.root)
                    else:
                        messagebox.showinfo("Login success","Welcome to our file Sharing platform",parent=self.root)
    
                except:
                    m=Message(root,text="OOPS! something went wrong",width=300,font=('Roman', 20, 'bold'), fg='red')
                    m.pack(padx=250,pady=700)
root=Tk()
obj=login(root)
root.mainloop()
